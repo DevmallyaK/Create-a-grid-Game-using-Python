{
 "cells": [
  {
   "cell_type": "code",
   "execution_count": 1,
   "metadata": {},
   "outputs": [],
   "source": [
    "#!pip install pygame"
   ]
  },
  {
   "cell_type": "code",
   "execution_count": 2,
   "metadata": {},
   "outputs": [],
   "source": [
    "# Assign the coordinates to create a board\n",
    "characterX = 1\n",
    "characterY = 1"
   ]
  },
  {
   "cell_type": "code",
   "execution_count": 3,
   "metadata": {},
   "outputs": [],
   "source": [
    "characterPosition = \"|A|\""
   ]
  },
  {
   "cell_type": "code",
   "execution_count": 4,
   "metadata": {},
   "outputs": [
    {
     "data": {
      "text/plain": [
       "[['|  |', '|  |', '|  |'], ['|  |', '|  |', '|  |'], ['|  |', '|  |', '|  |']]"
      ]
     },
     "execution_count": 4,
     "metadata": {},
     "output_type": "execute_result"
    }
   ],
   "source": [
    "board = [[\"|  |\"for a in range(3)] for b in range(3)]\n",
    "board"
   ]
  },
  {
   "cell_type": "code",
   "execution_count": 5,
   "metadata": {},
   "outputs": [
    {
     "data": {
      "text/plain": [
       "'|A|'"
      ]
     },
     "execution_count": 5,
     "metadata": {},
     "output_type": "execute_result"
    }
   ],
   "source": [
    "board[characterX][characterY] = characterPosition\n",
    "board[characterX][characterY]"
   ]
  },
  {
   "cell_type": "code",
   "execution_count": null,
   "metadata": {},
   "outputs": [
    {
     "name": "stdout",
     "output_type": "stream",
     "text": [
      "----- ----- -----\n",
      "|  | |  | |  |\n",
      "----- ----- -----\n",
      "----- ----- -----\n",
      "|  | |A| |  |\n",
      "----- ----- -----\n",
      "----- ----- -----\n",
      "|  | |  | |  |\n",
      "----- ----- -----\n",
      "Instructions:\n",
      "Up: W\n",
      "Down: S\n",
      "Left: A\n",
      "Right: D\n",
      "Enter one of the instruction: D\n",
      "----- ----- -----\n",
      "|  | |  | |  |\n",
      "----- ----- -----\n",
      "----- ----- -----\n",
      "| A | |  | |  |\n",
      "----- ----- -----\n",
      "----- ----- -----\n",
      "|  | |  | |  |\n",
      "----- ----- -----\n",
      "Instructions:\n",
      "Up: W\n",
      "Down: S\n",
      "Left: A\n",
      "Right: D\n",
      "Enter one of the instruction: S\n",
      "----- ----- -----\n",
      "|  | |  | |  |\n",
      "----- ----- -----\n",
      "----- ----- -----\n",
      "|  | |  | |  |\n",
      "----- ----- -----\n",
      "----- ----- -----\n",
      "| A | |  | |  |\n",
      "----- ----- -----\n",
      "Instructions:\n",
      "Up: W\n",
      "Down: S\n",
      "Left: A\n",
      "Right: D\n",
      "Enter one of the instruction: W\n",
      "----- ----- -----\n",
      "|  | |  | |  |\n",
      "----- ----- -----\n",
      "----- ----- -----\n",
      "| A | |  | |  |\n",
      "----- ----- -----\n",
      "----- ----- -----\n",
      "|  | |  | |  |\n",
      "----- ----- -----\n",
      "Instructions:\n",
      "Up: W\n",
      "Down: S\n",
      "Left: A\n",
      "Right: D\n",
      "Enter one of the instruction: A\n",
      "----- ----- -----\n",
      "|  | |  | |  |\n",
      "----- ----- -----\n",
      "----- ----- -----\n",
      "|  | | A | |  |\n",
      "----- ----- -----\n",
      "----- ----- -----\n",
      "|  | |  | |  |\n",
      "----- ----- -----\n",
      "Instructions:\n",
      "Up: W\n",
      "Down: S\n",
      "Left: A\n",
      "Right: D\n"
     ]
    }
   ],
   "source": [
    "while True:\n",
    "    for i in board:\n",
    "        print(\"----- ----- -----\")\n",
    "        print(\" \".join(i))\n",
    "        print(\"----- ----- -----\")\n",
    "    print(\"Instructions:\")\n",
    "    print(\"Up: W\")\n",
    "    print(\"Down: S\")\n",
    "    print(\"Left: A\")\n",
    "    print(\"Right: D\")\n",
    "    \n",
    "    direction = input(\"Enter one of the instruction: \")\n",
    "    if direction == \"W\": # Move Up\n",
    "        board[characterX][characterY] = \"|  |\"\n",
    "        characterX -= 1\n",
    "        board[characterX][characterY] = \"| A |\"\n",
    "    elif direction == \"S\": #move Down\n",
    "        board[characterX][characterY] = \"|  |\"\n",
    "        characterX += 1\n",
    "        board[characterX][characterY] = \"| A |\"\n",
    "    elif direction == \"A\": # Move Left\n",
    "        board[characterX][characterY] = \"|  |\"\n",
    "        characterY += 1\n",
    "        board[characterX][characterY] = \"| A |\"\n",
    "    elif direction == \"D\": # Move Right\n",
    "        board[characterX][characterY] = \"|  |\"\n",
    "        characterY -= 1\n",
    "        board[characterX][characterY] = \"| A |\""
   ]
  },
  {
   "cell_type": "code",
   "execution_count": null,
   "metadata": {},
   "outputs": [],
   "source": []
  }
 ],
 "metadata": {
  "kernelspec": {
   "display_name": "Python 3",
   "language": "python",
   "name": "python3"
  },
  "language_info": {
   "codemirror_mode": {
    "name": "ipython",
    "version": 3
   },
   "file_extension": ".py",
   "mimetype": "text/x-python",
   "name": "python",
   "nbconvert_exporter": "python",
   "pygments_lexer": "ipython3",
   "version": "3.8.5"
  }
 },
 "nbformat": 4,
 "nbformat_minor": 4
}
